{
 "cells": [
  {
   "cell_type": "code",
   "execution_count": 1,
   "id": "bb9151a4-f539-4077-87ba-d4d091c5472c",
   "metadata": {},
   "outputs": [],
   "source": [
    "import re\n",
    "file_path = '/home/bagiya/Desktop/IEMOCAP_full_release/Session1/dialog/EmoEvaluation/Ses01F_impro01.txt'\n"
   ]
  },
  {
   "cell_type": "code",
   "execution_count": 2,
   "id": "c40e24e2-2683-40cb-80c9-d903134185e8",
   "metadata": {},
   "outputs": [],
   "source": [
    "useful_regex = re.compile(r'\\[.+\\]\\n', re.IGNORECASE)\n"
   ]
  },
  {
   "cell_type": "code",
   "execution_count": 3,
   "id": "6e802c0d-293e-44e7-bec3-0f7c7da16779",
   "metadata": {},
   "outputs": [],
   "source": [
    "with open(file_path) as f:\n",
    "    file_content = f.read()\n",
    "    \n",
    "info_lines = re.findall(useful_regex, file_content)"
   ]
  },
  {
   "cell_type": "code",
   "execution_count": 4,
   "id": "7372c438-2551-4fb9-a043-05ff748b8969",
   "metadata": {},
   "outputs": [
    {
     "name": "stdout",
     "output_type": "stream",
     "text": [
      "['[6.2901 - 8.2357]', 'Ses01F_impro01_F000', 'neu', '[2.5000, 2.5000, 2.5000]']\n",
      "['[10.0100 - 11.3925]', 'Ses01F_impro01_F001', 'neu', '[2.5000, 2.5000, 2.5000]']\n",
      "['[14.8872 - 18.0175]', 'Ses01F_impro01_F002', 'neu', '[2.5000, 2.5000, 2.5000]']\n",
      "['[19.2900 - 20.7875]', 'Ses01F_impro01_F003', 'xxx', '[2.5000, 3.0000, 3.0000]']\n",
      "['[21.3257 - 24.7400]', 'Ses01F_impro01_F004', 'xxx', '[2.5000, 3.0000, 2.5000]']\n",
      "['[27.4600 - 31.4900]', 'Ses01F_impro01_F005', 'neu', '[2.5000, 3.5000, 2.0000]']\n",
      "['[38.9650 - 43.5900]', 'Ses01F_impro01_F006', 'fru', '[2.0000, 3.5000, 3.5000]']\n",
      "['[46.5800 - 52.1900]', 'Ses01F_impro01_F007', 'fru', '[2.5000, 3.5000, 3.5000]']\n",
      "['[56.1600 - 58.8225]', 'Ses01F_impro01_F008', 'fru', '[2.0000, 3.5000, 3.5000]']\n"
     ]
    }
   ],
   "source": [
    "\n",
    "for l in info_lines[1:10]:\n",
    "    print(l.strip().split('\\t'))"
   ]
  },
  {
   "cell_type": "code",
   "execution_count": 14,
   "id": "abed52bb-c9bf-4ba8-982f-eecb41aba76f",
   "metadata": {},
   "outputs": [],
   "source": [
    "\n",
    "import re\n",
    "import os\n",
    "\n",
    "\n",
    "info_line = re.compile(r'\\[.+\\]\\n', re.IGNORECASE)\n",
    "\n",
    "start_times, end_times, wav_file_names, emotions, vals, acts, doms = [], [], [], [], [], [], []\n",
    "\n",
    "for sess in [4]:\n",
    "    emo_evaluation_dir = '/home/bagiya/Desktop/IEMOCAP_full_release/Session{}/dialog/EmoEvaluation/'.format(sess)\n",
    "    evaluation_files = [l for l in os.listdir(emo_evaluation_dir) if 'Ses' in l]\n",
    "    for file in evaluation_files:\n",
    "        with open(emo_evaluation_dir + file) as f:\n",
    "            content = f.read()\n",
    "        info_lines = re.findall(info_line, content)\n",
    "        for line in info_lines[1:]:  # the first line is a header\n",
    "            start_end_time, wav_file_name, emotion, val_act_dom = line.strip().split('\\t')\n",
    "            start_time, end_time = start_end_time[1:-1].split('-')\n",
    "            val, act, dom = val_act_dom[1:-1].split(',')\n",
    "            val, act, dom = float(val), float(act), float(dom)\n",
    "            start_time, end_time = float(start_time), float(end_time)\n",
    "            start_times.append(start_time)\n",
    "            end_times.append(end_time)\n",
    "            wav_file_names.append(wav_file_name)\n",
    "            emotions.append(emotion)\n",
    "            vals.append(val)\n",
    "            acts.append(act)\n",
    "            doms.append(dom)"
   ]
  },
  {
   "cell_type": "code",
   "execution_count": 15,
   "id": "ed9d125d-2677-4c19-8c47-0e3bd8c28fc6",
   "metadata": {},
   "outputs": [
    {
     "data": {
      "text/html": [
       "<div>\n",
       "<style scoped>\n",
       "    .dataframe tbody tr th:only-of-type {\n",
       "        vertical-align: middle;\n",
       "    }\n",
       "\n",
       "    .dataframe tbody tr th {\n",
       "        vertical-align: top;\n",
       "    }\n",
       "\n",
       "    .dataframe thead th {\n",
       "        text-align: right;\n",
       "    }\n",
       "</style>\n",
       "<table border=\"1\" class=\"dataframe\">\n",
       "  <thead>\n",
       "    <tr style=\"text-align: right;\">\n",
       "      <th></th>\n",
       "      <th>start_time</th>\n",
       "      <th>end_time</th>\n",
       "      <th>wav_file</th>\n",
       "      <th>emotion</th>\n",
       "      <th>val</th>\n",
       "      <th>act</th>\n",
       "      <th>dom</th>\n",
       "    </tr>\n",
       "  </thead>\n",
       "  <tbody>\n",
       "    <tr>\n",
       "      <th>2098</th>\n",
       "      <td>203.40</td>\n",
       "      <td>205.50</td>\n",
       "      <td>Ses04M_script03_1_M029</td>\n",
       "      <td>exc</td>\n",
       "      <td>3.0</td>\n",
       "      <td>3.5</td>\n",
       "      <td>3.5</td>\n",
       "    </tr>\n",
       "    <tr>\n",
       "      <th>2099</th>\n",
       "      <td>207.10</td>\n",
       "      <td>209.23</td>\n",
       "      <td>Ses04M_script03_1_M030</td>\n",
       "      <td>xxx</td>\n",
       "      <td>2.5</td>\n",
       "      <td>2.5</td>\n",
       "      <td>3.0</td>\n",
       "    </tr>\n",
       "    <tr>\n",
       "      <th>2100</th>\n",
       "      <td>214.70</td>\n",
       "      <td>219.05</td>\n",
       "      <td>Ses04M_script03_1_M031</td>\n",
       "      <td>xxx</td>\n",
       "      <td>4.5</td>\n",
       "      <td>3.0</td>\n",
       "      <td>3.5</td>\n",
       "    </tr>\n",
       "    <tr>\n",
       "      <th>2101</th>\n",
       "      <td>222.07</td>\n",
       "      <td>225.37</td>\n",
       "      <td>Ses04M_script03_1_M032</td>\n",
       "      <td>xxx</td>\n",
       "      <td>4.0</td>\n",
       "      <td>3.0</td>\n",
       "      <td>4.0</td>\n",
       "    </tr>\n",
       "    <tr>\n",
       "      <th>2102</th>\n",
       "      <td>226.90</td>\n",
       "      <td>231.71</td>\n",
       "      <td>Ses04M_script03_1_M033</td>\n",
       "      <td>neu</td>\n",
       "      <td>3.0</td>\n",
       "      <td>3.5</td>\n",
       "      <td>4.0</td>\n",
       "    </tr>\n",
       "  </tbody>\n",
       "</table>\n",
       "</div>"
      ],
      "text/plain": [
       "      start_time  end_time                wav_file emotion  val  act  dom\n",
       "2098      203.40    205.50  Ses04M_script03_1_M029     exc  3.0  3.5  3.5\n",
       "2099      207.10    209.23  Ses04M_script03_1_M030     xxx  2.5  2.5  3.0\n",
       "2100      214.70    219.05  Ses04M_script03_1_M031     xxx  4.5  3.0  3.5\n",
       "2101      222.07    225.37  Ses04M_script03_1_M032     xxx  4.0  3.0  4.0\n",
       "2102      226.90    231.71  Ses04M_script03_1_M033     neu  3.0  3.5  4.0"
      ]
     },
     "execution_count": 15,
     "metadata": {},
     "output_type": "execute_result"
    }
   ],
   "source": [
    "\n",
    "import pandas as pd\n",
    "\n",
    "df_iemocap = pd.DataFrame(columns=['start_time', 'end_time', 'wav_file', 'emotion', 'val', 'act', 'dom'])\n",
    "\n",
    "df_iemocap['start_time'] = start_times\n",
    "df_iemocap['end_time'] = end_times\n",
    "df_iemocap['wav_file'] = wav_file_names\n",
    "df_iemocap['emotion'] = emotions\n",
    "df_iemocap['val'] = vals\n",
    "df_iemocap['act'] = acts\n",
    "df_iemocap['dom'] = doms\n",
    "\n",
    "df_iemocap.tail()"
   ]
  },
  {
   "cell_type": "code",
   "execution_count": 16,
   "id": "1a82cc7a-35f0-48c8-b9c0-bdaaf82e22c7",
   "metadata": {},
   "outputs": [],
   "source": [
    "df_iemocap.to_csv('df_iemocap_4.csv', index=False)\n"
   ]
  },
  {
   "cell_type": "code",
   "execution_count": 19,
   "id": "318188ca-e5db-422c-838a-5d06e7ec010f",
   "metadata": {},
   "outputs": [],
   "source": [
    "directory = 'df_iemocap/'\n",
    "dfs = []\n"
   ]
  },
  {
   "cell_type": "code",
   "execution_count": 20,
   "id": "30fe9857-7a69-498b-b361-8e1bf0cb9eba",
   "metadata": {},
   "outputs": [],
   "source": [
    "for filename in os.listdir(directory):\n",
    "    if filename.endswith(\".csv\"):\n",
    "        file_path = os.path.join(directory, filename)\n",
    "        df = pd.read_csv(file_path)  # Read each CSV file\n",
    "        dfs.append(df) "
   ]
  },
  {
   "cell_type": "code",
   "execution_count": 21,
   "id": "6d8c1083-1801-40e1-9e5b-a7820aec2453",
   "metadata": {},
   "outputs": [],
   "source": [
    "merged_df = pd.concat(dfs, ignore_index=True)\n"
   ]
  },
  {
   "cell_type": "code",
   "execution_count": 22,
   "id": "a1019bc4-2269-46fa-932a-8a2f3ad315c7",
   "metadata": {},
   "outputs": [],
   "source": [
    "merged_df.to_csv('df_iemocap.csv', index=False)\n"
   ]
  },
  {
   "cell_type": "code",
   "execution_count": 23,
   "id": "a54d29d9-71a4-4de7-acf3-9ca258aa89ac",
   "metadata": {},
   "outputs": [
    {
     "name": "stdout",
     "output_type": "stream",
     "text": [
      "<class 'pandas.core.frame.DataFrame'>\n",
      "RangeIndex: 10039 entries, 0 to 10038\n",
      "Data columns (total 7 columns):\n",
      " #   Column      Non-Null Count  Dtype  \n",
      "---  ------      --------------  -----  \n",
      " 0   start_time  10039 non-null  float64\n",
      " 1   end_time    10039 non-null  float64\n",
      " 2   wav_file    10039 non-null  object \n",
      " 3   emotion     10039 non-null  object \n",
      " 4   val         10039 non-null  float64\n",
      " 5   act         10039 non-null  float64\n",
      " 6   dom         10039 non-null  float64\n",
      "dtypes: float64(5), object(2)\n",
      "memory usage: 549.1+ KB\n"
     ]
    }
   ],
   "source": [
    "merged_df.info()"
   ]
  },
  {
   "cell_type": "code",
   "execution_count": null,
   "id": "d7345ac8-3a18-41ea-9e20-755e92733f55",
   "metadata": {},
   "outputs": [],
   "source": []
  }
 ],
 "metadata": {
  "kernelspec": {
   "display_name": "Python 3 (ipykernel)",
   "language": "python",
   "name": "python3"
  },
  "language_info": {
   "codemirror_mode": {
    "name": "ipython",
    "version": 3
   },
   "file_extension": ".py",
   "mimetype": "text/x-python",
   "name": "python",
   "nbconvert_exporter": "python",
   "pygments_lexer": "ipython3",
   "version": "3.10.10"
  }
 },
 "nbformat": 4,
 "nbformat_minor": 5
}
