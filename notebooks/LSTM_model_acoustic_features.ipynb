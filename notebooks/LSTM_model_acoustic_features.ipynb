{
 "cells": [
  {
   "cell_type": "code",
   "execution_count": null,
   "metadata": {
    "id": "DYYuiUcOL2z2"
   },
   "outputs": [],
   "source": [
    "import os\n",
    "import numpy as np\n",
    "import pandas as pd\n",
    "\n",
    "# Load your existing iemocap DataFrame\n",
    "df_iemocap = pd.read_csv('df_iemocap_with_features.csv')  # Adjust the path to your CSV\n"
   ]
  },
  {
   "cell_type": "code",
   "execution_count": null,
   "metadata": {
    "colab": {
     "base_uri": "https://localhost:8080/",
     "height": 255
    },
    "id": "OWjwi03iM6dB",
    "outputId": "6a2e3f3a-a0dd-4ff8-ec1d-fa26547a4526"
   },
   "outputs": [
    {
     "data": {
      "application/vnd.google.colaboratory.intrinsic+json": {
       "type": "dataframe",
       "variable_name": "df_iemocap"
      },
      "text/html": [
       "\n",
       "  <div id=\"df-8fba6ded-0466-426e-be01-6024c366ef00\" class=\"colab-df-container\">\n",
       "    <div>\n",
       "<style scoped>\n",
       "    .dataframe tbody tr th:only-of-type {\n",
       "        vertical-align: middle;\n",
       "    }\n",
       "\n",
       "    .dataframe tbody tr th {\n",
       "        vertical-align: top;\n",
       "    }\n",
       "\n",
       "    .dataframe thead th {\n",
       "        text-align: right;\n",
       "    }\n",
       "</style>\n",
       "<table border=\"1\" class=\"dataframe\">\n",
       "  <thead>\n",
       "    <tr style=\"text-align: right;\">\n",
       "      <th></th>\n",
       "      <th>start_time</th>\n",
       "      <th>end_time</th>\n",
       "      <th>wav_file</th>\n",
       "      <th>emotion</th>\n",
       "      <th>val</th>\n",
       "      <th>act</th>\n",
       "      <th>dom</th>\n",
       "      <th>MFCC1</th>\n",
       "      <th>MFCC2</th>\n",
       "      <th>MFCC3</th>\n",
       "      <th>...</th>\n",
       "      <th>Chroma11</th>\n",
       "      <th>Chroma12</th>\n",
       "      <th>SpectralContrast1</th>\n",
       "      <th>SpectralContrast2</th>\n",
       "      <th>SpectralContrast3</th>\n",
       "      <th>SpectralContrast4</th>\n",
       "      <th>SpectralContrast5</th>\n",
       "      <th>SpectralContrast6</th>\n",
       "      <th>SpectralContrast7</th>\n",
       "      <th>ZeroCrossingRate</th>\n",
       "    </tr>\n",
       "  </thead>\n",
       "  <tbody>\n",
       "    <tr>\n",
       "      <th>0</th>\n",
       "      <td>8.0341</td>\n",
       "      <td>13.50</td>\n",
       "      <td>Ses05F_script01_1_F000</td>\n",
       "      <td>sad</td>\n",
       "      <td>2.5</td>\n",
       "      <td>2.5</td>\n",
       "      <td>2.5</td>\n",
       "      <td>-464.898987</td>\n",
       "      <td>119.969124</td>\n",
       "      <td>-7.643576</td>\n",
       "      <td>...</td>\n",
       "      <td>0.421615</td>\n",
       "      <td>0.375193</td>\n",
       "      <td>17.053972</td>\n",
       "      <td>16.371297</td>\n",
       "      <td>16.881244</td>\n",
       "      <td>17.185019</td>\n",
       "      <td>17.721546</td>\n",
       "      <td>17.477850</td>\n",
       "      <td>20.656050</td>\n",
       "      <td>0.078382</td>\n",
       "    </tr>\n",
       "    <tr>\n",
       "      <th>1</th>\n",
       "      <td>15.2259</td>\n",
       "      <td>19.10</td>\n",
       "      <td>Ses05F_script01_1_F001</td>\n",
       "      <td>xxx</td>\n",
       "      <td>2.0</td>\n",
       "      <td>3.0</td>\n",
       "      <td>3.0</td>\n",
       "      <td>-435.348572</td>\n",
       "      <td>117.497269</td>\n",
       "      <td>-10.906404</td>\n",
       "      <td>...</td>\n",
       "      <td>0.380136</td>\n",
       "      <td>0.421472</td>\n",
       "      <td>17.265016</td>\n",
       "      <td>16.791738</td>\n",
       "      <td>17.651642</td>\n",
       "      <td>17.205775</td>\n",
       "      <td>17.052922</td>\n",
       "      <td>17.942451</td>\n",
       "      <td>21.527245</td>\n",
       "      <td>0.094663</td>\n",
       "    </tr>\n",
       "    <tr>\n",
       "      <th>2</th>\n",
       "      <td>20.5700</td>\n",
       "      <td>22.10</td>\n",
       "      <td>Ses05F_script01_1_F002</td>\n",
       "      <td>xxx</td>\n",
       "      <td>2.5</td>\n",
       "      <td>2.0</td>\n",
       "      <td>2.5</td>\n",
       "      <td>-498.951324</td>\n",
       "      <td>135.751755</td>\n",
       "      <td>-14.035595</td>\n",
       "      <td>...</td>\n",
       "      <td>0.631194</td>\n",
       "      <td>0.421012</td>\n",
       "      <td>15.005613</td>\n",
       "      <td>14.258981</td>\n",
       "      <td>16.267633</td>\n",
       "      <td>17.036546</td>\n",
       "      <td>17.999499</td>\n",
       "      <td>17.367494</td>\n",
       "      <td>17.658056</td>\n",
       "      <td>0.060699</td>\n",
       "    </tr>\n",
       "    <tr>\n",
       "      <th>3</th>\n",
       "      <td>28.9800</td>\n",
       "      <td>32.13</td>\n",
       "      <td>Ses05F_script01_1_F003</td>\n",
       "      <td>xxx</td>\n",
       "      <td>2.5</td>\n",
       "      <td>3.0</td>\n",
       "      <td>2.5</td>\n",
       "      <td>-459.131958</td>\n",
       "      <td>127.234604</td>\n",
       "      <td>-10.658073</td>\n",
       "      <td>...</td>\n",
       "      <td>0.432782</td>\n",
       "      <td>0.388997</td>\n",
       "      <td>15.970424</td>\n",
       "      <td>17.969763</td>\n",
       "      <td>17.118443</td>\n",
       "      <td>17.177244</td>\n",
       "      <td>17.301360</td>\n",
       "      <td>18.076253</td>\n",
       "      <td>19.646218</td>\n",
       "      <td>0.064700</td>\n",
       "    </tr>\n",
       "    <tr>\n",
       "      <th>4</th>\n",
       "      <td>38.1100</td>\n",
       "      <td>39.88</td>\n",
       "      <td>Ses05F_script01_1_F004</td>\n",
       "      <td>sad</td>\n",
       "      <td>2.5</td>\n",
       "      <td>2.5</td>\n",
       "      <td>3.0</td>\n",
       "      <td>-472.654846</td>\n",
       "      <td>118.265526</td>\n",
       "      <td>-8.783584</td>\n",
       "      <td>...</td>\n",
       "      <td>0.453893</td>\n",
       "      <td>0.584195</td>\n",
       "      <td>15.275234</td>\n",
       "      <td>16.910328</td>\n",
       "      <td>16.387280</td>\n",
       "      <td>16.713556</td>\n",
       "      <td>17.352526</td>\n",
       "      <td>18.122145</td>\n",
       "      <td>19.914245</td>\n",
       "      <td>0.084891</td>\n",
       "    </tr>\n",
       "  </tbody>\n",
       "</table>\n",
       "<p>5 rows × 40 columns</p>\n",
       "</div>\n",
       "    <div class=\"colab-df-buttons\">\n",
       "\n",
       "  <div class=\"colab-df-container\">\n",
       "    <button class=\"colab-df-convert\" onclick=\"convertToInteractive('df-8fba6ded-0466-426e-be01-6024c366ef00')\"\n",
       "            title=\"Convert this dataframe to an interactive table.\"\n",
       "            style=\"display:none;\">\n",
       "\n",
       "  <svg xmlns=\"http://www.w3.org/2000/svg\" height=\"24px\" viewBox=\"0 -960 960 960\">\n",
       "    <path d=\"M120-120v-720h720v720H120Zm60-500h600v-160H180v160Zm220 220h160v-160H400v160Zm0 220h160v-160H400v160ZM180-400h160v-160H180v160Zm440 0h160v-160H620v160ZM180-180h160v-160H180v160Zm440 0h160v-160H620v160Z\"/>\n",
       "  </svg>\n",
       "    </button>\n",
       "\n",
       "  <style>\n",
       "    .colab-df-container {\n",
       "      display:flex;\n",
       "      gap: 12px;\n",
       "    }\n",
       "\n",
       "    .colab-df-convert {\n",
       "      background-color: #E8F0FE;\n",
       "      border: none;\n",
       "      border-radius: 50%;\n",
       "      cursor: pointer;\n",
       "      display: none;\n",
       "      fill: #1967D2;\n",
       "      height: 32px;\n",
       "      padding: 0 0 0 0;\n",
       "      width: 32px;\n",
       "    }\n",
       "\n",
       "    .colab-df-convert:hover {\n",
       "      background-color: #E2EBFA;\n",
       "      box-shadow: 0px 1px 2px rgba(60, 64, 67, 0.3), 0px 1px 3px 1px rgba(60, 64, 67, 0.15);\n",
       "      fill: #174EA6;\n",
       "    }\n",
       "\n",
       "    .colab-df-buttons div {\n",
       "      margin-bottom: 4px;\n",
       "    }\n",
       "\n",
       "    [theme=dark] .colab-df-convert {\n",
       "      background-color: #3B4455;\n",
       "      fill: #D2E3FC;\n",
       "    }\n",
       "\n",
       "    [theme=dark] .colab-df-convert:hover {\n",
       "      background-color: #434B5C;\n",
       "      box-shadow: 0px 1px 3px 1px rgba(0, 0, 0, 0.15);\n",
       "      filter: drop-shadow(0px 1px 2px rgba(0, 0, 0, 0.3));\n",
       "      fill: #FFFFFF;\n",
       "    }\n",
       "  </style>\n",
       "\n",
       "    <script>\n",
       "      const buttonEl =\n",
       "        document.querySelector('#df-8fba6ded-0466-426e-be01-6024c366ef00 button.colab-df-convert');\n",
       "      buttonEl.style.display =\n",
       "        google.colab.kernel.accessAllowed ? 'block' : 'none';\n",
       "\n",
       "      async function convertToInteractive(key) {\n",
       "        const element = document.querySelector('#df-8fba6ded-0466-426e-be01-6024c366ef00');\n",
       "        const dataTable =\n",
       "          await google.colab.kernel.invokeFunction('convertToInteractive',\n",
       "                                                    [key], {});\n",
       "        if (!dataTable) return;\n",
       "\n",
       "        const docLinkHtml = 'Like what you see? Visit the ' +\n",
       "          '<a target=\"_blank\" href=https://colab.research.google.com/notebooks/data_table.ipynb>data table notebook</a>'\n",
       "          + ' to learn more about interactive tables.';\n",
       "        element.innerHTML = '';\n",
       "        dataTable['output_type'] = 'display_data';\n",
       "        await google.colab.output.renderOutput(dataTable, element);\n",
       "        const docLink = document.createElement('div');\n",
       "        docLink.innerHTML = docLinkHtml;\n",
       "        element.appendChild(docLink);\n",
       "      }\n",
       "    </script>\n",
       "  </div>\n",
       "\n",
       "\n",
       "<div id=\"df-f98a09ce-3eb7-4e14-b0cb-da8b1d171a30\">\n",
       "  <button class=\"colab-df-quickchart\" onclick=\"quickchart('df-f98a09ce-3eb7-4e14-b0cb-da8b1d171a30')\"\n",
       "            title=\"Suggest charts\"\n",
       "            style=\"display:none;\">\n",
       "\n",
       "<svg xmlns=\"http://www.w3.org/2000/svg\" height=\"24px\"viewBox=\"0 0 24 24\"\n",
       "     width=\"24px\">\n",
       "    <g>\n",
       "        <path d=\"M19 3H5c-1.1 0-2 .9-2 2v14c0 1.1.9 2 2 2h14c1.1 0 2-.9 2-2V5c0-1.1-.9-2-2-2zM9 17H7v-7h2v7zm4 0h-2V7h2v10zm4 0h-2v-4h2v4z\"/>\n",
       "    </g>\n",
       "</svg>\n",
       "  </button>\n",
       "\n",
       "<style>\n",
       "  .colab-df-quickchart {\n",
       "      --bg-color: #E8F0FE;\n",
       "      --fill-color: #1967D2;\n",
       "      --hover-bg-color: #E2EBFA;\n",
       "      --hover-fill-color: #174EA6;\n",
       "      --disabled-fill-color: #AAA;\n",
       "      --disabled-bg-color: #DDD;\n",
       "  }\n",
       "\n",
       "  [theme=dark] .colab-df-quickchart {\n",
       "      --bg-color: #3B4455;\n",
       "      --fill-color: #D2E3FC;\n",
       "      --hover-bg-color: #434B5C;\n",
       "      --hover-fill-color: #FFFFFF;\n",
       "      --disabled-bg-color: #3B4455;\n",
       "      --disabled-fill-color: #666;\n",
       "  }\n",
       "\n",
       "  .colab-df-quickchart {\n",
       "    background-color: var(--bg-color);\n",
       "    border: none;\n",
       "    border-radius: 50%;\n",
       "    cursor: pointer;\n",
       "    display: none;\n",
       "    fill: var(--fill-color);\n",
       "    height: 32px;\n",
       "    padding: 0;\n",
       "    width: 32px;\n",
       "  }\n",
       "\n",
       "  .colab-df-quickchart:hover {\n",
       "    background-color: var(--hover-bg-color);\n",
       "    box-shadow: 0 1px 2px rgba(60, 64, 67, 0.3), 0 1px 3px 1px rgba(60, 64, 67, 0.15);\n",
       "    fill: var(--button-hover-fill-color);\n",
       "  }\n",
       "\n",
       "  .colab-df-quickchart-complete:disabled,\n",
       "  .colab-df-quickchart-complete:disabled:hover {\n",
       "    background-color: var(--disabled-bg-color);\n",
       "    fill: var(--disabled-fill-color);\n",
       "    box-shadow: none;\n",
       "  }\n",
       "\n",
       "  .colab-df-spinner {\n",
       "    border: 2px solid var(--fill-color);\n",
       "    border-color: transparent;\n",
       "    border-bottom-color: var(--fill-color);\n",
       "    animation:\n",
       "      spin 1s steps(1) infinite;\n",
       "  }\n",
       "\n",
       "  @keyframes spin {\n",
       "    0% {\n",
       "      border-color: transparent;\n",
       "      border-bottom-color: var(--fill-color);\n",
       "      border-left-color: var(--fill-color);\n",
       "    }\n",
       "    20% {\n",
       "      border-color: transparent;\n",
       "      border-left-color: var(--fill-color);\n",
       "      border-top-color: var(--fill-color);\n",
       "    }\n",
       "    30% {\n",
       "      border-color: transparent;\n",
       "      border-left-color: var(--fill-color);\n",
       "      border-top-color: var(--fill-color);\n",
       "      border-right-color: var(--fill-color);\n",
       "    }\n",
       "    40% {\n",
       "      border-color: transparent;\n",
       "      border-right-color: var(--fill-color);\n",
       "      border-top-color: var(--fill-color);\n",
       "    }\n",
       "    60% {\n",
       "      border-color: transparent;\n",
       "      border-right-color: var(--fill-color);\n",
       "    }\n",
       "    80% {\n",
       "      border-color: transparent;\n",
       "      border-right-color: var(--fill-color);\n",
       "      border-bottom-color: var(--fill-color);\n",
       "    }\n",
       "    90% {\n",
       "      border-color: transparent;\n",
       "      border-bottom-color: var(--fill-color);\n",
       "    }\n",
       "  }\n",
       "</style>\n",
       "\n",
       "  <script>\n",
       "    async function quickchart(key) {\n",
       "      const quickchartButtonEl =\n",
       "        document.querySelector('#' + key + ' button');\n",
       "      quickchartButtonEl.disabled = true;  // To prevent multiple clicks.\n",
       "      quickchartButtonEl.classList.add('colab-df-spinner');\n",
       "      try {\n",
       "        const charts = await google.colab.kernel.invokeFunction(\n",
       "            'suggestCharts', [key], {});\n",
       "      } catch (error) {\n",
       "        console.error('Error during call to suggestCharts:', error);\n",
       "      }\n",
       "      quickchartButtonEl.classList.remove('colab-df-spinner');\n",
       "      quickchartButtonEl.classList.add('colab-df-quickchart-complete');\n",
       "    }\n",
       "    (() => {\n",
       "      let quickchartButtonEl =\n",
       "        document.querySelector('#df-f98a09ce-3eb7-4e14-b0cb-da8b1d171a30 button');\n",
       "      quickchartButtonEl.style.display =\n",
       "        google.colab.kernel.accessAllowed ? 'block' : 'none';\n",
       "    })();\n",
       "  </script>\n",
       "</div>\n",
       "\n",
       "    </div>\n",
       "  </div>\n"
      ],
      "text/plain": [
       "   start_time  end_time                wav_file emotion  val  act  dom  \\\n",
       "0      8.0341     13.50  Ses05F_script01_1_F000     sad  2.5  2.5  2.5   \n",
       "1     15.2259     19.10  Ses05F_script01_1_F001     xxx  2.0  3.0  3.0   \n",
       "2     20.5700     22.10  Ses05F_script01_1_F002     xxx  2.5  2.0  2.5   \n",
       "3     28.9800     32.13  Ses05F_script01_1_F003     xxx  2.5  3.0  2.5   \n",
       "4     38.1100     39.88  Ses05F_script01_1_F004     sad  2.5  2.5  3.0   \n",
       "\n",
       "        MFCC1       MFCC2      MFCC3  ...  Chroma11  Chroma12  \\\n",
       "0 -464.898987  119.969124  -7.643576  ...  0.421615  0.375193   \n",
       "1 -435.348572  117.497269 -10.906404  ...  0.380136  0.421472   \n",
       "2 -498.951324  135.751755 -14.035595  ...  0.631194  0.421012   \n",
       "3 -459.131958  127.234604 -10.658073  ...  0.432782  0.388997   \n",
       "4 -472.654846  118.265526  -8.783584  ...  0.453893  0.584195   \n",
       "\n",
       "   SpectralContrast1  SpectralContrast2  SpectralContrast3  SpectralContrast4  \\\n",
       "0          17.053972          16.371297          16.881244          17.185019   \n",
       "1          17.265016          16.791738          17.651642          17.205775   \n",
       "2          15.005613          14.258981          16.267633          17.036546   \n",
       "3          15.970424          17.969763          17.118443          17.177244   \n",
       "4          15.275234          16.910328          16.387280          16.713556   \n",
       "\n",
       "   SpectralContrast5  SpectralContrast6  SpectralContrast7  ZeroCrossingRate  \n",
       "0          17.721546          17.477850          20.656050          0.078382  \n",
       "1          17.052922          17.942451          21.527245          0.094663  \n",
       "2          17.999499          17.367494          17.658056          0.060699  \n",
       "3          17.301360          18.076253          19.646218          0.064700  \n",
       "4          17.352526          18.122145          19.914245          0.084891  \n",
       "\n",
       "[5 rows x 40 columns]"
      ]
     },
     "execution_count": 2,
     "metadata": {},
     "output_type": "execute_result"
    }
   ],
   "source": [
    "df_iemocap.head()"
   ]
  },
  {
   "cell_type": "code",
   "execution_count": null,
   "metadata": {
    "id": "khe8w5MTM8J-"
   },
   "outputs": [],
   "source": [
    "import numpy as np\n",
    "import pandas as pd\n",
    "from sklearn.preprocessing import StandardScaler, OneHotEncoder\n",
    "from sklearn.model_selection import train_test_split\n",
    "import tensorflow as tf\n",
    "from tensorflow.keras.models import Sequential\n",
    "from tensorflow.keras.layers import LSTM, Dense, Dropout\n",
    "from tensorflow.keras.optimizers import Adam\n",
    "\n",
    "# pip install tensorflow"
   ]
  },
  {
   "cell_type": "code",
   "execution_count": null,
   "metadata": {
    "id": "b1p5t5uQM9lU"
   },
   "outputs": [],
   "source": [
    "df_iemocap = df_iemocap.dropna()"
   ]
  },
  {
   "cell_type": "code",
   "execution_count": null,
   "metadata": {
    "id": "f4RsJ8AuNEYf"
   },
   "outputs": [],
   "source": [
    "emotion_dict = {'ang': 0,\n",
    "                'hap': 1,\n",
    "                'exc': 2,\n",
    "                'sad': 3,\n",
    "                'fru': 4,\n",
    "                'fea': 5,\n",
    "                'sur': 6,\n",
    "                'neu': 7,\n",
    "                'xxx': 8,\n",
    "                'oth': 8,\n",
    "                'dis': 8}"
   ]
  },
  {
   "cell_type": "code",
   "execution_count": null,
   "metadata": {
    "id": "WnHcKgydNGoN"
   },
   "outputs": [],
   "source": [
    "df_iemocap['emotion_label'] = df_iemocap['emotion'].map(emotion_dict)\n"
   ]
  },
  {
   "cell_type": "code",
   "execution_count": null,
   "metadata": {
    "id": "HDWMx3vJNH6V"
   },
   "outputs": [],
   "source": [
    "df_iemocap['emotion_label'] = df_iemocap['emotion_label'].astype('float64')\n"
   ]
  },
  {
   "cell_type": "code",
   "execution_count": null,
   "metadata": {
    "colab": {
     "base_uri": "https://localhost:8080/"
    },
    "id": "UjfHEpN2NI_Q",
    "outputId": "0e2d5681-6989-4dd4-cea3-ad1120bac570"
   },
   "outputs": [
    {
     "name": "stdout",
     "output_type": "stream",
     "text": [
      "  emotion  emotion_label\n",
      "0     sad            3.0\n",
      "1     xxx            8.0\n",
      "2     xxx            8.0\n",
      "3     xxx            8.0\n",
      "4     sad            3.0\n"
     ]
    }
   ],
   "source": [
    "print(df_iemocap[['emotion', 'emotion_label']].head())\n"
   ]
  },
  {
   "cell_type": "code",
   "execution_count": null,
   "metadata": {
    "id": "sN8oh0gONKza"
   },
   "outputs": [],
   "source": [
    "# Separate features and targets\n",
    "X = df_iemocap.drop(columns=['emotion','emotion_label', 'val', 'act', 'dom', 'start_time', 'end_time', 'wav_file'])\n",
    "y = df_iemocap[['emotion_label', 'val', 'act', 'dom']]\n",
    "y_emotion = df_iemocap['emotion_label']\n",
    "y_val = df_iemocap['val']\n",
    "y_act = df_iemocap['act']\n",
    "y_dom = df_iemocap['dom']"
   ]
  },
  {
   "cell_type": "code",
   "execution_count": null,
   "metadata": {
    "id": "y_9lXtkJNM3q"
   },
   "outputs": [],
   "source": [
    "# Normalize the features (X)\n",
    "scaler = StandardScaler()\n",
    "X_scaled = scaler.fit_transform(X)"
   ]
  },
  {
   "cell_type": "code",
   "execution_count": null,
   "metadata": {
    "id": "sJwI2lmRNO-Y"
   },
   "outputs": [],
   "source": [
    "# Split data into train and test sets\n",
    "X_train, X_test, y_train_emotion, y_test_emotion = train_test_split(X_scaled, y_emotion, test_size=0.2, random_state=42)\n"
   ]
  },
  {
   "cell_type": "code",
   "execution_count": null,
   "metadata": {
    "id": "9fokcr1VNSWl"
   },
   "outputs": [],
   "source": [
    "from keras.models import Sequential\n",
    "from keras.layers import LSTM, Dropout, Input\n",
    "from sklearn.preprocessing import LabelEncoder\n"
   ]
  },
  {
   "cell_type": "code",
   "execution_count": null,
   "metadata": {
    "colab": {
     "base_uri": "https://localhost:8080/"
    },
    "id": "fetx8wpaNVIG",
    "outputId": "9dcb3689-5652-4a30-80cd-5bd5240f4904"
   },
   "outputs": [
    {
     "name": "stdout",
     "output_type": "stream",
     "text": [
      "2.17.0\n",
      "1.26.4\n"
     ]
    }
   ],
   "source": [
    "print(tf.__version__)\n",
    "print(np.__version__)"
   ]
  },
  {
   "cell_type": "code",
   "execution_count": null,
   "metadata": {
    "colab": {
     "base_uri": "https://localhost:8080/"
    },
    "id": "uD8lb6RZNoog",
    "outputId": "a605a1db-6b57-464f-fe0d-7f0e8eac314e"
   },
   "outputs": [
    {
     "name": "stdout",
     "output_type": "stream",
     "text": [
      "(1736, 33)\n"
     ]
    }
   ],
   "source": [
    "print(X_train.shape)  # This should print (number_of_samples, 1, number_of_features)\n"
   ]
  },
  {
   "cell_type": "code",
   "execution_count": null,
   "metadata": {
    "id": "H9NLYUbQNrUi"
   },
   "outputs": [],
   "source": [
    "# Assuming X_train is a 2D array (2170, 33)\n",
    "X_train = X_train.reshape((X_train.shape[0], 1, X_train.shape[1]))  # Reshape to (samples, timesteps, features)\n"
   ]
  },
  {
   "cell_type": "code",
   "execution_count": null,
   "metadata": {
    "id": "2EnuLQD-NWZL"
   },
   "outputs": [],
   "source": [
    "model = Sequential()\n",
    "model.add(Input(shape=(X_train.shape[1], X_train.shape[2])))\n",
    "model.add(LSTM(128, return_sequences=False))\n",
    "model.add(Dropout(0.3))\n",
    "model.add(Dense(9, activation='softmax'))  # Output layer with softmax for multi-class\n"
   ]
  },
  {
   "cell_type": "code",
   "execution_count": null,
   "metadata": {
    "id": "_U3qMGlRNY6j"
   },
   "outputs": [],
   "source": [
    "# Compile the model\n",
    "model.compile(optimizer='adam', loss='sparse_categorical_crossentropy', metrics=['accuracy'])\n",
    "\n"
   ]
  },
  {
   "cell_type": "code",
   "execution_count": null,
   "metadata": {
    "colab": {
     "base_uri": "https://localhost:8080/"
    },
    "id": "b6KG5og9OpZd",
    "outputId": "ecd5bb81-1b70-46b8-e9ef-62b74b6ea252"
   },
   "outputs": [
    {
     "name": "stdout",
     "output_type": "stream",
     "text": [
      "Epoch 1/50\n",
      "\u001b[1m44/44\u001b[0m \u001b[32m━━━━━━━━━━━━━━━━━━━━\u001b[0m\u001b[37m\u001b[0m \u001b[1m4s\u001b[0m 19ms/step - accuracy: 0.1940 - loss: 2.1491 - val_accuracy: 0.2816 - val_loss: 1.9776\n",
      "Epoch 2/50\n",
      "\u001b[1m44/44\u001b[0m \u001b[32m━━━━━━━━━━━━━━━━━━━━\u001b[0m\u001b[37m\u001b[0m \u001b[1m1s\u001b[0m 8ms/step - accuracy: 0.3710 - loss: 1.9087 - val_accuracy: 0.3132 - val_loss: 1.8394\n",
      "Epoch 3/50\n",
      "\u001b[1m44/44\u001b[0m \u001b[32m━━━━━━━━━━━━━━━━━━━━\u001b[0m\u001b[37m\u001b[0m \u001b[1m1s\u001b[0m 7ms/step - accuracy: 0.3770 - loss: 1.7845 - val_accuracy: 0.3190 - val_loss: 1.7604\n",
      "Epoch 4/50\n",
      "\u001b[1m44/44\u001b[0m \u001b[32m━━━━━━━━━━━━━━━━━━━━\u001b[0m\u001b[37m\u001b[0m \u001b[1m1s\u001b[0m 7ms/step - accuracy: 0.3609 - loss: 1.7511 - val_accuracy: 0.3017 - val_loss: 1.7151\n",
      "Epoch 5/50\n",
      "\u001b[1m44/44\u001b[0m \u001b[32m━━━━━━━━━━━━━━━━━━━━\u001b[0m\u001b[37m\u001b[0m \u001b[1m1s\u001b[0m 8ms/step - accuracy: 0.3827 - loss: 1.6710 - val_accuracy: 0.3276 - val_loss: 1.6905\n",
      "Epoch 6/50\n",
      "\u001b[1m44/44\u001b[0m \u001b[32m━━━━━━━━━━━━━━━━━━━━\u001b[0m\u001b[37m\u001b[0m \u001b[1m1s\u001b[0m 7ms/step - accuracy: 0.3829 - loss: 1.6512 - val_accuracy: 0.3420 - val_loss: 1.6671\n",
      "Epoch 7/50\n",
      "\u001b[1m44/44\u001b[0m \u001b[32m━━━━━━━━━━━━━━━━━━━━\u001b[0m\u001b[37m\u001b[0m \u001b[1m0s\u001b[0m 7ms/step - accuracy: 0.3783 - loss: 1.6453 - val_accuracy: 0.3276 - val_loss: 1.6530\n",
      "Epoch 8/50\n",
      "\u001b[1m44/44\u001b[0m \u001b[32m━━━━━━━━━━━━━━━━━━━━\u001b[0m\u001b[37m\u001b[0m \u001b[1m0s\u001b[0m 5ms/step - accuracy: 0.4182 - loss: 1.5843 - val_accuracy: 0.3477 - val_loss: 1.6433\n",
      "Epoch 9/50\n",
      "\u001b[1m44/44\u001b[0m \u001b[32m━━━━━━━━━━━━━━━━━━━━\u001b[0m\u001b[37m\u001b[0m \u001b[1m0s\u001b[0m 5ms/step - accuracy: 0.4377 - loss: 1.5425 - val_accuracy: 0.3391 - val_loss: 1.6308\n",
      "Epoch 10/50\n",
      "\u001b[1m44/44\u001b[0m \u001b[32m━━━━━━━━━━━━━━━━━━━━\u001b[0m\u001b[37m\u001b[0m \u001b[1m0s\u001b[0m 5ms/step - accuracy: 0.4241 - loss: 1.5346 - val_accuracy: 0.3649 - val_loss: 1.6186\n",
      "Epoch 11/50\n",
      "\u001b[1m44/44\u001b[0m \u001b[32m━━━━━━━━━━━━━━━━━━━━\u001b[0m\u001b[37m\u001b[0m \u001b[1m0s\u001b[0m 5ms/step - accuracy: 0.4340 - loss: 1.5190 - val_accuracy: 0.3534 - val_loss: 1.6222\n",
      "Epoch 12/50\n",
      "\u001b[1m44/44\u001b[0m \u001b[32m━━━━━━━━━━━━━━━━━━━━\u001b[0m\u001b[37m\u001b[0m \u001b[1m0s\u001b[0m 7ms/step - accuracy: 0.4379 - loss: 1.5035 - val_accuracy: 0.3649 - val_loss: 1.6072\n",
      "Epoch 13/50\n",
      "\u001b[1m44/44\u001b[0m \u001b[32m━━━━━━━━━━━━━━━━━━━━\u001b[0m\u001b[37m\u001b[0m \u001b[1m0s\u001b[0m 7ms/step - accuracy: 0.4372 - loss: 1.4879 - val_accuracy: 0.3736 - val_loss: 1.6163\n",
      "Epoch 14/50\n",
      "\u001b[1m44/44\u001b[0m \u001b[32m━━━━━━━━━━━━━━━━━━━━\u001b[0m\u001b[37m\u001b[0m \u001b[1m0s\u001b[0m 7ms/step - accuracy: 0.4542 - loss: 1.4877 - val_accuracy: 0.3592 - val_loss: 1.6028\n",
      "Epoch 15/50\n",
      "\u001b[1m44/44\u001b[0m \u001b[32m━━━━━━━━━━━━━━━━━━━━\u001b[0m\u001b[37m\u001b[0m \u001b[1m1s\u001b[0m 5ms/step - accuracy: 0.4564 - loss: 1.4756 - val_accuracy: 0.3592 - val_loss: 1.6097\n",
      "Epoch 16/50\n",
      "\u001b[1m44/44\u001b[0m \u001b[32m━━━━━━━━━━━━━━━━━━━━\u001b[0m\u001b[37m\u001b[0m \u001b[1m0s\u001b[0m 5ms/step - accuracy: 0.4699 - loss: 1.4441 - val_accuracy: 0.3678 - val_loss: 1.5987\n",
      "Epoch 17/50\n",
      "\u001b[1m44/44\u001b[0m \u001b[32m━━━━━━━━━━━━━━━━━━━━\u001b[0m\u001b[37m\u001b[0m \u001b[1m0s\u001b[0m 6ms/step - accuracy: 0.4802 - loss: 1.4102 - val_accuracy: 0.3879 - val_loss: 1.5941\n",
      "Epoch 18/50\n",
      "\u001b[1m44/44\u001b[0m \u001b[32m━━━━━━━━━━━━━━━━━━━━\u001b[0m\u001b[37m\u001b[0m \u001b[1m0s\u001b[0m 5ms/step - accuracy: 0.4707 - loss: 1.4288 - val_accuracy: 0.3707 - val_loss: 1.6007\n",
      "Epoch 19/50\n",
      "\u001b[1m44/44\u001b[0m \u001b[32m━━━━━━━━━━━━━━━━━━━━\u001b[0m\u001b[37m\u001b[0m \u001b[1m0s\u001b[0m 5ms/step - accuracy: 0.4605 - loss: 1.4068 - val_accuracy: 0.3649 - val_loss: 1.5872\n",
      "Epoch 20/50\n",
      "\u001b[1m44/44\u001b[0m \u001b[32m━━━━━━━━━━━━━━━━━━━━\u001b[0m\u001b[37m\u001b[0m \u001b[1m0s\u001b[0m 5ms/step - accuracy: 0.4627 - loss: 1.4042 - val_accuracy: 0.3534 - val_loss: 1.5922\n",
      "Epoch 21/50\n",
      "\u001b[1m44/44\u001b[0m \u001b[32m━━━━━━━━━━━━━━━━━━━━\u001b[0m\u001b[37m\u001b[0m \u001b[1m0s\u001b[0m 6ms/step - accuracy: 0.4907 - loss: 1.3689 - val_accuracy: 0.3678 - val_loss: 1.5899\n",
      "Epoch 22/50\n",
      "\u001b[1m44/44\u001b[0m \u001b[32m━━━━━━━━━━━━━━━━━━━━\u001b[0m\u001b[37m\u001b[0m \u001b[1m0s\u001b[0m 6ms/step - accuracy: 0.4953 - loss: 1.3740 - val_accuracy: 0.3649 - val_loss: 1.5917\n",
      "Epoch 23/50\n",
      "\u001b[1m44/44\u001b[0m \u001b[32m━━━━━━━━━━━━━━━━━━━━\u001b[0m\u001b[37m\u001b[0m \u001b[1m0s\u001b[0m 6ms/step - accuracy: 0.4848 - loss: 1.3686 - val_accuracy: 0.3592 - val_loss: 1.5914\n",
      "Epoch 24/50\n",
      "\u001b[1m44/44\u001b[0m \u001b[32m━━━━━━━━━━━━━━━━━━━━\u001b[0m\u001b[37m\u001b[0m \u001b[1m0s\u001b[0m 7ms/step - accuracy: 0.4842 - loss: 1.3646 - val_accuracy: 0.3707 - val_loss: 1.5845\n",
      "Epoch 25/50\n",
      "\u001b[1m44/44\u001b[0m \u001b[32m━━━━━━━━━━━━━━━━━━━━\u001b[0m\u001b[37m\u001b[0m \u001b[1m1s\u001b[0m 5ms/step - accuracy: 0.4952 - loss: 1.3699 - val_accuracy: 0.3678 - val_loss: 1.5849\n",
      "Epoch 26/50\n",
      "\u001b[1m44/44\u001b[0m \u001b[32m━━━━━━━━━━━━━━━━━━━━\u001b[0m\u001b[37m\u001b[0m \u001b[1m0s\u001b[0m 9ms/step - accuracy: 0.4950 - loss: 1.3374 - val_accuracy: 0.3534 - val_loss: 1.5872\n",
      "Epoch 27/50\n",
      "\u001b[1m44/44\u001b[0m \u001b[32m━━━━━━━━━━━━━━━━━━━━\u001b[0m\u001b[37m\u001b[0m \u001b[1m1s\u001b[0m 9ms/step - accuracy: 0.4893 - loss: 1.3601 - val_accuracy: 0.3506 - val_loss: 1.5863\n",
      "Epoch 28/50\n",
      "\u001b[1m44/44\u001b[0m \u001b[32m━━━━━━━━━━━━━━━━━━━━\u001b[0m\u001b[37m\u001b[0m \u001b[1m1s\u001b[0m 11ms/step - accuracy: 0.4969 - loss: 1.3128 - val_accuracy: 0.3506 - val_loss: 1.5891\n",
      "Epoch 29/50\n",
      "\u001b[1m44/44\u001b[0m \u001b[32m━━━━━━━━━━━━━━━━━━━━\u001b[0m\u001b[37m\u001b[0m \u001b[1m1s\u001b[0m 11ms/step - accuracy: 0.5048 - loss: 1.3109 - val_accuracy: 0.3592 - val_loss: 1.5847\n",
      "Epoch 30/50\n",
      "\u001b[1m44/44\u001b[0m \u001b[32m━━━━━━━━━━━━━━━━━━━━\u001b[0m\u001b[37m\u001b[0m \u001b[1m1s\u001b[0m 12ms/step - accuracy: 0.5274 - loss: 1.2923 - val_accuracy: 0.3592 - val_loss: 1.5969\n",
      "Epoch 31/50\n",
      "\u001b[1m44/44\u001b[0m \u001b[32m━━━━━━━━━━━━━━━━━━━━\u001b[0m\u001b[37m\u001b[0m \u001b[1m1s\u001b[0m 11ms/step - accuracy: 0.5538 - loss: 1.2406 - val_accuracy: 0.3592 - val_loss: 1.5806\n",
      "Epoch 32/50\n",
      "\u001b[1m44/44\u001b[0m \u001b[32m━━━━━━━━━━━━━━━━━━━━\u001b[0m\u001b[37m\u001b[0m \u001b[1m0s\u001b[0m 9ms/step - accuracy: 0.5065 - loss: 1.2857 - val_accuracy: 0.3764 - val_loss: 1.5919\n",
      "Epoch 33/50\n",
      "\u001b[1m44/44\u001b[0m \u001b[32m━━━━━━━━━━━━━━━━━━━━\u001b[0m\u001b[37m\u001b[0m \u001b[1m0s\u001b[0m 7ms/step - accuracy: 0.5346 - loss: 1.2427 - val_accuracy: 0.3621 - val_loss: 1.5815\n",
      "Epoch 34/50\n",
      "\u001b[1m44/44\u001b[0m \u001b[32m━━━━━━━━━━━━━━━━━━━━\u001b[0m\u001b[37m\u001b[0m \u001b[1m0s\u001b[0m 6ms/step - accuracy: 0.5399 - loss: 1.2489 - val_accuracy: 0.3592 - val_loss: 1.5833\n",
      "Epoch 35/50\n",
      "\u001b[1m44/44\u001b[0m \u001b[32m━━━━━━━━━━━━━━━━━━━━\u001b[0m\u001b[37m\u001b[0m \u001b[1m0s\u001b[0m 5ms/step - accuracy: 0.5369 - loss: 1.2454 - val_accuracy: 0.3534 - val_loss: 1.5888\n",
      "Epoch 36/50\n",
      "\u001b[1m44/44\u001b[0m \u001b[32m━━━━━━━━━━━━━━━━━━━━\u001b[0m\u001b[37m\u001b[0m \u001b[1m0s\u001b[0m 5ms/step - accuracy: 0.5403 - loss: 1.2225 - val_accuracy: 0.3707 - val_loss: 1.5923\n",
      "Epoch 37/50\n",
      "\u001b[1m44/44\u001b[0m \u001b[32m━━━━━━━━━━━━━━━━━━━━\u001b[0m\u001b[37m\u001b[0m \u001b[1m0s\u001b[0m 6ms/step - accuracy: 0.5211 - loss: 1.2741 - val_accuracy: 0.3506 - val_loss: 1.5880\n",
      "Epoch 38/50\n",
      "\u001b[1m44/44\u001b[0m \u001b[32m━━━━━━━━━━━━━━━━━━━━\u001b[0m\u001b[37m\u001b[0m \u001b[1m1s\u001b[0m 6ms/step - accuracy: 0.5679 - loss: 1.1909 - val_accuracy: 0.3707 - val_loss: 1.5923\n",
      "Epoch 39/50\n",
      "\u001b[1m44/44\u001b[0m \u001b[32m━━━━━━━━━━━━━━━━━━━━\u001b[0m\u001b[37m\u001b[0m \u001b[1m0s\u001b[0m 6ms/step - accuracy: 0.5385 - loss: 1.2366 - val_accuracy: 0.3678 - val_loss: 1.5958\n",
      "Epoch 40/50\n",
      "\u001b[1m44/44\u001b[0m \u001b[32m━━━━━━━━━━━━━━━━━━━━\u001b[0m\u001b[37m\u001b[0m \u001b[1m0s\u001b[0m 6ms/step - accuracy: 0.5686 - loss: 1.1705 - val_accuracy: 0.3736 - val_loss: 1.5903\n",
      "Epoch 41/50\n",
      "\u001b[1m44/44\u001b[0m \u001b[32m━━━━━━━━━━━━━━━━━━━━\u001b[0m\u001b[37m\u001b[0m \u001b[1m1s\u001b[0m 5ms/step - accuracy: 0.5488 - loss: 1.1945 - val_accuracy: 0.3678 - val_loss: 1.5991\n",
      "Epoch 42/50\n",
      "\u001b[1m44/44\u001b[0m \u001b[32m━━━━━━━━━━━━━━━━━━━━\u001b[0m\u001b[37m\u001b[0m \u001b[1m0s\u001b[0m 7ms/step - accuracy: 0.5765 - loss: 1.1607 - val_accuracy: 0.3851 - val_loss: 1.5947\n",
      "Epoch 43/50\n",
      "\u001b[1m44/44\u001b[0m \u001b[32m━━━━━━━━━━━━━━━━━━━━\u001b[0m\u001b[37m\u001b[0m \u001b[1m1s\u001b[0m 5ms/step - accuracy: 0.5654 - loss: 1.1828 - val_accuracy: 0.3764 - val_loss: 1.5956\n",
      "Epoch 44/50\n",
      "\u001b[1m44/44\u001b[0m \u001b[32m━━━━━━━━━━━━━━━━━━━━\u001b[0m\u001b[37m\u001b[0m \u001b[1m0s\u001b[0m 5ms/step - accuracy: 0.5863 - loss: 1.1306 - val_accuracy: 0.3707 - val_loss: 1.6003\n",
      "Epoch 45/50\n",
      "\u001b[1m44/44\u001b[0m \u001b[32m━━━━━━━━━━━━━━━━━━━━\u001b[0m\u001b[37m\u001b[0m \u001b[1m0s\u001b[0m 5ms/step - accuracy: 0.6171 - loss: 1.0987 - val_accuracy: 0.3678 - val_loss: 1.5951\n",
      "Epoch 46/50\n",
      "\u001b[1m44/44\u001b[0m \u001b[32m━━━━━━━━━━━━━━━━━━━━\u001b[0m\u001b[37m\u001b[0m \u001b[1m0s\u001b[0m 5ms/step - accuracy: 0.5949 - loss: 1.1133 - val_accuracy: 0.3764 - val_loss: 1.5998\n",
      "Epoch 47/50\n",
      "\u001b[1m44/44\u001b[0m \u001b[32m━━━━━━━━━━━━━━━━━━━━\u001b[0m\u001b[37m\u001b[0m \u001b[1m0s\u001b[0m 5ms/step - accuracy: 0.5849 - loss: 1.1162 - val_accuracy: 0.3707 - val_loss: 1.6073\n",
      "Epoch 48/50\n",
      "\u001b[1m44/44\u001b[0m \u001b[32m━━━━━━━━━━━━━━━━━━━━\u001b[0m\u001b[37m\u001b[0m \u001b[1m0s\u001b[0m 5ms/step - accuracy: 0.6051 - loss: 1.0752 - val_accuracy: 0.3793 - val_loss: 1.6075\n",
      "Epoch 49/50\n",
      "\u001b[1m44/44\u001b[0m \u001b[32m━━━━━━━━━━━━━━━━━━━━\u001b[0m\u001b[37m\u001b[0m \u001b[1m0s\u001b[0m 5ms/step - accuracy: 0.5944 - loss: 1.1219 - val_accuracy: 0.3736 - val_loss: 1.6130\n",
      "Epoch 50/50\n",
      "\u001b[1m44/44\u001b[0m \u001b[32m━━━━━━━━━━━━━━━━━━━━\u001b[0m\u001b[37m\u001b[0m \u001b[1m0s\u001b[0m 6ms/step - accuracy: 0.5756 - loss: 1.1368 - val_accuracy: 0.3822 - val_loss: 1.6129\n"
     ]
    }
   ],
   "source": [
    "history = model.fit(X_train, y_train_emotion, epochs=50, batch_size=32, validation_split=0.2)\n"
   ]
  },
  {
   "cell_type": "code",
   "execution_count": null,
   "metadata": {
    "colab": {
     "base_uri": "https://localhost:8080/"
    },
    "id": "gOYEXTyrO5b8",
    "outputId": "f219612f-48f7-4eaa-b394-c5a77a689c21"
   },
   "outputs": [
    {
     "name": "stdout",
     "output_type": "stream",
     "text": [
      "(434, 33)\n"
     ]
    }
   ],
   "source": [
    "print(X_test.shape)  # Should be (num_samples, timesteps, num_features)\n"
   ]
  },
  {
   "cell_type": "code",
   "execution_count": null,
   "metadata": {
    "id": "l-BUlr-EPR1J"
   },
   "outputs": [],
   "source": [
    "X_test_reshaped = X_test.reshape(X_test.shape[0], 1, X_test.shape[1])\n"
   ]
  },
  {
   "cell_type": "code",
   "execution_count": null,
   "metadata": {
    "colab": {
     "base_uri": "https://localhost:8080/"
    },
    "id": "psrGfVFEPZ3_",
    "outputId": "1e6f7cb5-bae3-46ea-c07b-21c2d7855e95"
   },
   "outputs": [
    {
     "name": "stdout",
     "output_type": "stream",
     "text": [
      "\u001b[1m14/14\u001b[0m \u001b[32m━━━━━━━━━━━━━━━━━━━━\u001b[0m\u001b[37m\u001b[0m \u001b[1m0s\u001b[0m 4ms/step - accuracy: 0.3982 - loss: 1.5708 \n",
      "Test Loss: 1.6227, Test Accuracy: 0.3687\n"
     ]
    }
   ],
   "source": [
    "loss, accuracy = model.evaluate(X_test_reshaped, y_test_emotion)  # Use the correctly formatted labels\n",
    "print(f\"Test Loss: {loss:.4f}, Test Accuracy: {accuracy:.4f}\")\n"
   ]
  },
  {
   "cell_type": "code",
   "execution_count": null,
   "metadata": {
    "id": "JhJ8TayxPo5j"
   },
   "outputs": [],
   "source": []
  }
 ],
 "metadata": {
  "colab": {
   "provenance": []
  },
  "kernelspec": {
   "display_name": "Python 3 (ipykernel)",
   "language": "python",
   "name": "python3"
  },
  "language_info": {
   "codemirror_mode": {
    "name": "ipython",
    "version": 3
   },
   "file_extension": ".py",
   "mimetype": "text/x-python",
   "name": "python",
   "nbconvert_exporter": "python",
   "pygments_lexer": "ipython3",
   "version": "3.10.10"
  }
 },
 "nbformat": 4,
 "nbformat_minor": 4
}
