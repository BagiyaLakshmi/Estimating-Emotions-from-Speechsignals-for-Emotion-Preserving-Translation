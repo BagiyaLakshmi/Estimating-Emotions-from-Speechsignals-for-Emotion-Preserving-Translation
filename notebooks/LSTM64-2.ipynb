{
 "cells": [
  {
   "cell_type": "code",
   "execution_count": 43,
   "id": "8edd30d0",
   "metadata": {},
   "outputs": [],
   "source": [
    "import pandas as pd\n",
    "import numpy as np\n",
    "from sklearn.preprocessing import LabelEncoder, StandardScaler\n",
    "from sklearn.model_selection import train_test_split\n",
    "from tensorflow.keras.models import Sequential\n",
    "from tensorflow.keras.layers import LSTM, Dense\n",
    "from tensorflow.keras.utils import to_categorical\n",
    "from tensorflow.keras.models import Sequential\n",
    "from tensorflow.keras.layers import LSTM, Dense, Dropout, BatchNormalization\n",
    "from tensorflow.keras.optimizers import Adam\n",
    "from tensorflow.keras.callbacks import EarlyStopping\n",
    "from tensorflow.keras.models import Sequential\n",
    "from tensorflow.keras.layers import LSTM, Dense, Dropout, Bidirectional\n",
    "from tensorflow.keras.optimizers import Adam"
   ]
  },
  {
   "cell_type": "code",
   "execution_count": 44,
   "id": "7f8f19d8",
   "metadata": {},
   "outputs": [],
   "source": [
    "# Load the dataset\n",
    "file_path = 'C:/Users/suhas/Downloads/df_iemocap_with_features.csv'  \n",
    "df = pd.read_csv(file_path)\n"
   ]
  },
  {
   "cell_type": "code",
   "execution_count": 45,
   "id": "14eb2239",
   "metadata": {},
   "outputs": [],
   "source": [
    "df_filtered = df[df['emotion'] != 'xxx'].reset_index(drop=True)"
   ]
  },
  {
   "cell_type": "code",
   "execution_count": 46,
   "id": "3fbd8503",
   "metadata": {},
   "outputs": [],
   "source": [
    "# Define features and label\n",
    "X = df_filtered.drop(columns=['start_time', 'end_time', 'wav_file', 'emotion'])  # Drop non-feature columns\n",
    "y = df_filtered['emotion']  # The target is the 'emotion' column"
   ]
  },
  {
   "cell_type": "code",
   "execution_count": 47,
   "id": "115d085b",
   "metadata": {},
   "outputs": [],
   "source": [
    "# Encode the emotions as numerical values\n",
    "label_encoder = LabelEncoder()\n",
    "y_encoded = label_encoder.fit_transform(y)"
   ]
  },
  {
   "cell_type": "code",
   "execution_count": 48,
   "id": "3abbf57b",
   "metadata": {},
   "outputs": [],
   "source": [
    "# Normalize the features\n",
    "scaler = StandardScaler()\n",
    "X_scaled = scaler.fit_transform(X) \n"
   ]
  },
  {
   "cell_type": "code",
   "execution_count": 49,
   "id": "abf0cddb",
   "metadata": {},
   "outputs": [],
   "source": [
    "# Reshape the data for LSTM (samples, time steps, features)\n",
    "X_lstm = np.expand_dims(X_scaled, axis=1)"
   ]
  },
  {
   "cell_type": "code",
   "execution_count": 50,
   "id": "d2a664dc",
   "metadata": {},
   "outputs": [],
   "source": [
    "# Split the data into training and testing sets\n",
    "X_train, X_test, y_train, y_test = train_test_split(X_lstm, y_encoded, test_size=0.2, random_state=42)\n"
   ]
  },
  {
   "cell_type": "code",
   "execution_count": 58,
   "id": "e8179a74",
   "metadata": {},
   "outputs": [],
   "source": [
    "# Convert the labels to one-hot encoding\n",
    "y_train_categorical = to_categorical(y_train)\n",
    "y_test_categorical = to_categorical(y_test)\n"
   ]
  },
  {
   "cell_type": "code",
   "execution_count": 59,
   "id": "2e083db1",
   "metadata": {
    "scrolled": true
   },
   "outputs": [],
   "source": [
    "num_classes = y_train_categorical.shape[1]\n",
    "model = Sequential()\n",
    "model.add(LSTM(128, input_shape=(1, 36), activation='relu', return_sequences=True))  # Larger LSTM\n",
    "model.add(Dropout(0.4))  # Increased dropout\n",
    "model.add(LSTM(64, activation='relu'))  # Second LSTM layer\n",
    "model.add(BatchNormalization())  # Batch Normalization\n",
    "model.add(Dense(32, activation='relu'))\n",
    "model.add(Dense(num_classes, activation='softmax'))\n",
    "# Output layer for multi-class classification\n"
   ]
  },
  {
   "cell_type": "code",
   "execution_count": 60,
   "id": "d492f175",
   "metadata": {},
   "outputs": [],
   "source": [
    "optimizer = Adam(learning_rate=0.0005)  # Adjusted learning rate\n",
    "model.compile(optimizer=optimizer, loss='categorical_crossentropy', metrics=['accuracy'])\n"
   ]
  },
  {
   "cell_type": "code",
   "execution_count": 61,
   "id": "46612d9d",
   "metadata": {},
   "outputs": [],
   "source": [
    "# Early stopping\n",
    "early_stopping = EarlyStopping(monitor='val_loss', patience=5, restore_best_weights=True)"
   ]
  },
  {
   "cell_type": "code",
   "execution_count": 62,
   "id": "0103c203",
   "metadata": {},
   "outputs": [
    {
     "name": "stdout",
     "output_type": "stream",
     "text": [
      "Epoch 1/50\n",
      "42/42 [==============================] - 9s 33ms/step - loss: 1.9264 - accuracy: 0.2682 - val_loss: 2.0097 - val_accuracy: 0.3576\n",
      "Epoch 2/50\n",
      "42/42 [==============================] - 0s 10ms/step - loss: 1.6329 - accuracy: 0.4439 - val_loss: 1.9253 - val_accuracy: 0.3636\n",
      "Epoch 3/50\n",
      "42/42 [==============================] - 0s 9ms/step - loss: 1.3884 - accuracy: 0.5136 - val_loss: 1.8491 - val_accuracy: 0.3697\n",
      "Epoch 4/50\n",
      "42/42 [==============================] - 0s 10ms/step - loss: 1.2385 - accuracy: 0.5470 - val_loss: 1.7689 - val_accuracy: 0.4515\n",
      "Epoch 5/50\n",
      "42/42 [==============================] - 0s 10ms/step - loss: 1.1546 - accuracy: 0.5667 - val_loss: 1.6877 - val_accuracy: 0.5091\n",
      "Epoch 6/50\n",
      "42/42 [==============================] - 0s 11ms/step - loss: 1.0607 - accuracy: 0.6038 - val_loss: 1.5985 - val_accuracy: 0.5485\n",
      "Epoch 7/50\n",
      "42/42 [==============================] - 0s 11ms/step - loss: 1.0162 - accuracy: 0.6174 - val_loss: 1.5177 - val_accuracy: 0.5636\n",
      "Epoch 8/50\n",
      "42/42 [==============================] - 0s 11ms/step - loss: 1.0079 - accuracy: 0.6258 - val_loss: 1.4367 - val_accuracy: 0.5758\n",
      "Epoch 9/50\n",
      "42/42 [==============================] - 0s 10ms/step - loss: 0.9374 - accuracy: 0.6576 - val_loss: 1.3400 - val_accuracy: 0.5879\n",
      "Epoch 10/50\n",
      "42/42 [==============================] - 0s 10ms/step - loss: 0.9409 - accuracy: 0.6462 - val_loss: 1.2572 - val_accuracy: 0.5939\n",
      "Epoch 11/50\n",
      "42/42 [==============================] - 0s 10ms/step - loss: 0.8920 - accuracy: 0.6682 - val_loss: 1.1812 - val_accuracy: 0.6091\n",
      "Epoch 12/50\n",
      "42/42 [==============================] - 0s 10ms/step - loss: 0.8730 - accuracy: 0.6621 - val_loss: 1.1259 - val_accuracy: 0.6273\n",
      "Epoch 13/50\n",
      "42/42 [==============================] - 0s 10ms/step - loss: 0.8946 - accuracy: 0.6636 - val_loss: 1.0854 - val_accuracy: 0.6273\n",
      "Epoch 14/50\n",
      "42/42 [==============================] - 0s 10ms/step - loss: 0.8720 - accuracy: 0.6864 - val_loss: 1.0501 - val_accuracy: 0.6485\n",
      "Epoch 15/50\n",
      "42/42 [==============================] - 0s 9ms/step - loss: 0.8622 - accuracy: 0.6712 - val_loss: 1.0360 - val_accuracy: 0.6303\n",
      "Epoch 16/50\n",
      "42/42 [==============================] - 0s 10ms/step - loss: 0.8524 - accuracy: 0.6909 - val_loss: 1.0227 - val_accuracy: 0.6394\n",
      "Epoch 17/50\n",
      "42/42 [==============================] - 0s 10ms/step - loss: 0.8384 - accuracy: 0.6780 - val_loss: 1.0224 - val_accuracy: 0.6364\n",
      "Epoch 18/50\n",
      "42/42 [==============================] - 0s 10ms/step - loss: 0.8234 - accuracy: 0.6902 - val_loss: 1.0264 - val_accuracy: 0.6545\n",
      "Epoch 19/50\n",
      "42/42 [==============================] - 0s 10ms/step - loss: 0.8007 - accuracy: 0.6955 - val_loss: 1.0396 - val_accuracy: 0.6394\n",
      "Epoch 20/50\n",
      "42/42 [==============================] - 0s 10ms/step - loss: 0.7807 - accuracy: 0.7076 - val_loss: 1.0295 - val_accuracy: 0.6424\n",
      "Epoch 21/50\n",
      "42/42 [==============================] - 0s 9ms/step - loss: 0.7770 - accuracy: 0.7121 - val_loss: 1.0371 - val_accuracy: 0.6576\n",
      "Epoch 22/50\n",
      "42/42 [==============================] - 0s 9ms/step - loss: 0.7836 - accuracy: 0.7053 - val_loss: 1.0353 - val_accuracy: 0.6455\n",
      "Epoch 23/50\n",
      "42/42 [==============================] - 0s 9ms/step - loss: 0.7598 - accuracy: 0.7174 - val_loss: 1.0279 - val_accuracy: 0.6515\n",
      "Epoch 24/50\n",
      "42/42 [==============================] - 0s 10ms/step - loss: 0.7616 - accuracy: 0.7144 - val_loss: 1.0282 - val_accuracy: 0.6636\n",
      "Epoch 25/50\n",
      "42/42 [==============================] - 0s 11ms/step - loss: 0.7447 - accuracy: 0.7311 - val_loss: 1.0422 - val_accuracy: 0.6667\n",
      "Epoch 26/50\n",
      "42/42 [==============================] - 0s 9ms/step - loss: 0.7351 - accuracy: 0.7182 - val_loss: 1.0483 - val_accuracy: 0.6697\n",
      "Epoch 27/50\n",
      "42/42 [==============================] - 0s 10ms/step - loss: 0.7179 - accuracy: 0.7227 - val_loss: 1.0438 - val_accuracy: 0.6697\n",
      "Epoch 28/50\n",
      "42/42 [==============================] - 0s 9ms/step - loss: 0.7215 - accuracy: 0.7288 - val_loss: 1.0542 - val_accuracy: 0.6576\n",
      "Epoch 29/50\n",
      "42/42 [==============================] - 0s 10ms/step - loss: 0.7129 - accuracy: 0.7402 - val_loss: 1.0525 - val_accuracy: 0.6758\n",
      "Epoch 30/50\n",
      "42/42 [==============================] - 0s 9ms/step - loss: 0.6939 - accuracy: 0.7341 - val_loss: 1.0613 - val_accuracy: 0.6364\n",
      "Epoch 31/50\n",
      "42/42 [==============================] - 0s 9ms/step - loss: 0.7064 - accuracy: 0.7235 - val_loss: 1.0605 - val_accuracy: 0.6576\n",
      "Epoch 32/50\n",
      "42/42 [==============================] - 0s 10ms/step - loss: 0.6961 - accuracy: 0.7280 - val_loss: 1.0678 - val_accuracy: 0.6303\n",
      "Epoch 33/50\n",
      "42/42 [==============================] - 0s 10ms/step - loss: 0.6669 - accuracy: 0.7371 - val_loss: 1.0778 - val_accuracy: 0.6394\n",
      "Epoch 34/50\n",
      "42/42 [==============================] - 0s 10ms/step - loss: 0.6642 - accuracy: 0.7492 - val_loss: 1.0722 - val_accuracy: 0.6515\n",
      "Epoch 35/50\n",
      "42/42 [==============================] - 0s 10ms/step - loss: 0.6456 - accuracy: 0.7485 - val_loss: 1.0556 - val_accuracy: 0.6576\n",
      "Epoch 36/50\n",
      "42/42 [==============================] - 0s 10ms/step - loss: 0.6812 - accuracy: 0.7288 - val_loss: 1.0567 - val_accuracy: 0.6424\n",
      "Epoch 37/50\n",
      "42/42 [==============================] - 0s 10ms/step - loss: 0.6444 - accuracy: 0.7553 - val_loss: 1.0574 - val_accuracy: 0.6576\n",
      "Epoch 38/50\n",
      "42/42 [==============================] - 0s 11ms/step - loss: 0.6564 - accuracy: 0.7576 - val_loss: 1.0589 - val_accuracy: 0.6636\n",
      "Epoch 39/50\n",
      "42/42 [==============================] - 0s 10ms/step - loss: 0.6211 - accuracy: 0.7576 - val_loss: 1.0755 - val_accuracy: 0.6485\n",
      "Epoch 40/50\n",
      "42/42 [==============================] - 0s 9ms/step - loss: 0.6077 - accuracy: 0.7614 - val_loss: 1.0923 - val_accuracy: 0.6606\n",
      "Epoch 41/50\n",
      "42/42 [==============================] - 0s 10ms/step - loss: 0.6148 - accuracy: 0.7720 - val_loss: 1.0722 - val_accuracy: 0.6576\n",
      "Epoch 42/50\n",
      "42/42 [==============================] - 0s 9ms/step - loss: 0.5778 - accuracy: 0.7720 - val_loss: 1.0748 - val_accuracy: 0.6515\n",
      "Epoch 43/50\n",
      "42/42 [==============================] - 0s 10ms/step - loss: 0.5699 - accuracy: 0.7773 - val_loss: 1.0882 - val_accuracy: 0.6576\n",
      "Epoch 44/50\n",
      "42/42 [==============================] - 0s 10ms/step - loss: 0.6087 - accuracy: 0.7652 - val_loss: 1.1051 - val_accuracy: 0.6424\n",
      "Epoch 45/50\n",
      "42/42 [==============================] - 0s 9ms/step - loss: 0.5616 - accuracy: 0.7833 - val_loss: 1.1105 - val_accuracy: 0.6364\n",
      "Epoch 46/50\n",
      "42/42 [==============================] - 0s 10ms/step - loss: 0.5668 - accuracy: 0.7939 - val_loss: 1.1093 - val_accuracy: 0.6515\n",
      "Epoch 47/50\n",
      "42/42 [==============================] - 0s 10ms/step - loss: 0.5714 - accuracy: 0.7818 - val_loss: 1.1218 - val_accuracy: 0.6364\n",
      "Epoch 48/50\n",
      "42/42 [==============================] - 0s 10ms/step - loss: 0.5605 - accuracy: 0.7864 - val_loss: 1.1175 - val_accuracy: 0.6364\n",
      "Epoch 49/50\n",
      "42/42 [==============================] - 0s 10ms/step - loss: 0.5494 - accuracy: 0.7879 - val_loss: 1.1170 - val_accuracy: 0.6424\n",
      "Epoch 50/50\n",
      "42/42 [==============================] - 0s 10ms/step - loss: 0.5575 - accuracy: 0.7833 - val_loss: 1.1307 - val_accuracy: 0.6545\n"
     ]
    }
   ],
   "source": [
    "# Train the model\n",
    "history = model.fit(X_train, y_train_categorical, epochs=50, batch_size=32, validation_data=(X_test, y_test_categorical))"
   ]
  },
  {
   "cell_type": "code",
   "execution_count": 63,
   "id": "52aa875a",
   "metadata": {},
   "outputs": [
    {
     "name": "stdout",
     "output_type": "stream",
     "text": [
      "11/11 [==============================] - 0s 5ms/step - loss: 1.1307 - accuracy: 0.6545\n",
      "Test Accuracy: 0.6545\n"
     ]
    }
   ],
   "source": [
    "# Evaluate the model\n",
    "test_loss, test_acc = model.evaluate(X_test, y_test_categorical)\n",
    "print(f'Test Accuracy: {test_acc:.4f}')"
   ]
  },
  {
   "cell_type": "code",
   "execution_count": 64,
   "id": "4d412693",
   "metadata": {},
   "outputs": [
    {
     "name": "stdout",
     "output_type": "stream",
     "text": [
      "Model: \"sequential_7\"\n",
      "_________________________________________________________________\n",
      " Layer (type)                Output Shape              Param #   \n",
      "=================================================================\n",
      " lstm_10 (LSTM)              (None, 1, 128)            84480     \n",
      "                                                                 \n",
      " dropout_5 (Dropout)         (None, 1, 128)            0         \n",
      "                                                                 \n",
      " lstm_11 (LSTM)              (None, 64)                49408     \n",
      "                                                                 \n",
      " batch_normalization_3 (Batc  (None, 64)               256       \n",
      " hNormalization)                                                 \n",
      "                                                                 \n",
      " dense_11 (Dense)            (None, 32)                2080      \n",
      "                                                                 \n",
      " dense_12 (Dense)            (None, 8)                 264       \n",
      "                                                                 \n",
      "=================================================================\n",
      "Total params: 136,488\n",
      "Trainable params: 136,360\n",
      "Non-trainable params: 128\n",
      "_________________________________________________________________\n"
     ]
    }
   ],
   "source": [
    "model.summary()"
   ]
  },
  {
   "cell_type": "code",
   "execution_count": null,
   "id": "72b015db",
   "metadata": {},
   "outputs": [],
   "source": []
  }
 ],
 "metadata": {
  "kernelspec": {
   "display_name": "Python 3 (ipykernel)",
   "language": "python",
   "name": "python3"
  },
  "language_info": {
   "codemirror_mode": {
    "name": "ipython",
    "version": 3
   },
   "file_extension": ".py",
   "mimetype": "text/x-python",
   "name": "python",
   "nbconvert_exporter": "python",
   "pygments_lexer": "ipython3",
   "version": "3.9.12"
  }
 },
 "nbformat": 4,
 "nbformat_minor": 5
}
